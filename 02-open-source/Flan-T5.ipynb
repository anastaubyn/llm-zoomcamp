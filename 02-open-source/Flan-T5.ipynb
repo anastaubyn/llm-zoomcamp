{
 "cells": [
  {
   "cell_type": "markdown",
   "id": "e893881b-0ee0-4503-898f-d71484ea7b30",
   "metadata": {},
   "source": [
    "# Setup"
   ]
  },
  {
   "cell_type": "code",
   "execution_count": 8,
   "id": "88305214-e372-442c-bc4f-f6c23e127983",
   "metadata": {
    "execution": {
     "iopub.execute_input": "2024-07-12T15:29:28.394888Z",
     "iopub.status.busy": "2024-07-12T15:29:28.394499Z",
     "iopub.status.idle": "2024-07-12T15:29:32.659913Z",
     "shell.execute_reply": "2024-07-12T15:29:32.659289Z",
     "shell.execute_reply.started": "2024-07-12T15:29:28.394862Z"
    },
    "tags": []
   },
   "outputs": [],
   "source": [
    "import os\n",
    "from transformers import T5Tokenizer, T5ForConditionalGeneration"
   ]
  },
  {
   "cell_type": "code",
   "execution_count": 10,
   "id": "0b2060f2-ba15-4624-b586-58111c9f4185",
   "metadata": {
    "execution": {
     "iopub.execute_input": "2024-07-12T15:33:43.799469Z",
     "iopub.status.busy": "2024-07-12T15:33:43.799064Z",
     "iopub.status.idle": "2024-07-12T15:33:43.803731Z",
     "shell.execute_reply": "2024-07-12T15:33:43.802950Z",
     "shell.execute_reply.started": "2024-07-12T15:33:43.799440Z"
    },
    "tags": []
   },
   "outputs": [],
   "source": [
    "# This is the directory to which Hugging Face will save downloaded files\n",
    "os.environ['HF_HOME'] = '/run/cache/'"
   ]
  },
  {
   "cell_type": "code",
   "execution_count": 14,
   "id": "8b771355-dc32-4a2d-907e-8bb4592a9947",
   "metadata": {
    "execution": {
     "iopub.execute_input": "2024-07-12T15:47:31.710204Z",
     "iopub.status.busy": "2024-07-12T15:47:31.709810Z",
     "iopub.status.idle": "2024-07-12T15:47:33.078398Z",
     "shell.execute_reply": "2024-07-12T15:47:33.077572Z",
     "shell.execute_reply.started": "2024-07-12T15:47:31.710177Z"
    },
    "tags": []
   },
   "outputs": [
    {
     "name": "stdout",
     "output_type": "stream",
     "text": [
      "--2024-07-12 15:47:32--  https://raw.githubusercontent.com/alexeygrigorev/minsearch/main/minsearch.py\n",
      "Resolving raw.githubusercontent.com (raw.githubusercontent.com)... 185.199.111.133, 185.199.108.133, 185.199.110.133, ...\n",
      "Connecting to raw.githubusercontent.com (raw.githubusercontent.com)|185.199.111.133|:443... connected.\n",
      "HTTP request sent, awaiting response... 200 OK\n",
      "Length: 3832 (3.7K) [text/plain]\n",
      "Saving to: ‘minsearch.py’\n",
      "\n",
      "minsearch.py        100%[===================>]   3.74K  --.-KB/s    in 0s      \n",
      "\n",
      "2024-07-12 15:47:32 (78.5 MB/s) - ‘minsearch.py’ saved [3832/3832]\n",
      "\n"
     ]
    }
   ],
   "source": [
    "!rm -f minsearch.py\n",
    "!wget https://raw.githubusercontent.com/alexeygrigorev/minsearch/main/minsearch.py"
   ]
  },
  {
   "cell_type": "code",
   "execution_count": 15,
   "id": "35eb6253-60ce-443c-a6b2-069a8bbb7954",
   "metadata": {
    "execution": {
     "iopub.execute_input": "2024-07-12T15:47:56.445576Z",
     "iopub.status.busy": "2024-07-12T15:47:56.445169Z",
     "iopub.status.idle": "2024-07-12T15:47:56.449636Z",
     "shell.execute_reply": "2024-07-12T15:47:56.448883Z",
     "shell.execute_reply.started": "2024-07-12T15:47:56.445542Z"
    },
    "tags": []
   },
   "outputs": [],
   "source": [
    "import requests \n",
    "import minsearch"
   ]
  },
  {
   "cell_type": "markdown",
   "id": "a035a8f5-dd63-4c5e-a2f7-5b410431275f",
   "metadata": {},
   "source": [
    "# Getting Flan-T5 From Hugging Face"
   ]
  },
  {
   "cell_type": "code",
   "execution_count": 9,
   "id": "b270d0aa-6889-441b-bdd6-d37fda53793a",
   "metadata": {
    "execution": {
     "iopub.execute_input": "2024-07-12T15:30:59.337496Z",
     "iopub.status.busy": "2024-07-12T15:30:59.336981Z",
     "iopub.status.idle": "2024-07-12T15:33:35.255170Z",
     "shell.execute_reply": "2024-07-12T15:33:35.254603Z",
     "shell.execute_reply.started": "2024-07-12T15:30:59.337465Z"
    },
    "tags": []
   },
   "outputs": [
    {
     "data": {
      "application/vnd.jupyter.widget-view+json": {
       "model_id": "7457e322fce84325a77698adeb01a925",
       "version_major": 2,
       "version_minor": 0
      },
      "text/plain": [
       "tokenizer_config.json:   0%|          | 0.00/2.54k [00:00<?, ?B/s]"
      ]
     },
     "metadata": {},
     "output_type": "display_data"
    },
    {
     "data": {
      "application/vnd.jupyter.widget-view+json": {
       "model_id": "4247891e3b424b86b3017ba416c6e550",
       "version_major": 2,
       "version_minor": 0
      },
      "text/plain": [
       "spiece.model:   0%|          | 0.00/792k [00:00<?, ?B/s]"
      ]
     },
     "metadata": {},
     "output_type": "display_data"
    },
    {
     "data": {
      "application/vnd.jupyter.widget-view+json": {
       "model_id": "8a4bfad9e0974832a574747333043326",
       "version_major": 2,
       "version_minor": 0
      },
      "text/plain": [
       "special_tokens_map.json:   0%|          | 0.00/2.20k [00:00<?, ?B/s]"
      ]
     },
     "metadata": {},
     "output_type": "display_data"
    },
    {
     "data": {
      "application/vnd.jupyter.widget-view+json": {
       "model_id": "15cfa3a9372a45588d45b94d2a434048",
       "version_major": 2,
       "version_minor": 0
      },
      "text/plain": [
       "tokenizer.json:   0%|          | 0.00/2.42M [00:00<?, ?B/s]"
      ]
     },
     "metadata": {},
     "output_type": "display_data"
    },
    {
     "name": "stderr",
     "output_type": "stream",
     "text": [
      "You are using the default legacy behaviour of the <class 'transformers.models.t5.tokenization_t5.T5Tokenizer'>. This is expected, and simply means that the `legacy` (previous) behavior will be used so nothing changes for you. If you want to use the new behaviour, set `legacy=False`. This should only be set if you understand what it means, and thoroughly read the reason why this was added as explained in https://github.com/huggingface/transformers/pull/24565\n",
      "Special tokens have been added in the vocabulary, make sure the associated word embeddings are fine-tuned or trained.\n"
     ]
    },
    {
     "data": {
      "application/vnd.jupyter.widget-view+json": {
       "model_id": "b066f4bab8294324a03a2a0c6b06252c",
       "version_major": 2,
       "version_minor": 0
      },
      "text/plain": [
       "config.json:   0%|          | 0.00/1.44k [00:00<?, ?B/s]"
      ]
     },
     "metadata": {},
     "output_type": "display_data"
    },
    {
     "data": {
      "application/vnd.jupyter.widget-view+json": {
       "model_id": "692265589d5141bc8c0d1c1d24295fd9",
       "version_major": 2,
       "version_minor": 0
      },
      "text/plain": [
       "model.safetensors.index.json:   0%|          | 0.00/53.0k [00:00<?, ?B/s]"
      ]
     },
     "metadata": {},
     "output_type": "display_data"
    },
    {
     "data": {
      "application/vnd.jupyter.widget-view+json": {
       "model_id": "78f905f452c845a1a364e967a60c6952",
       "version_major": 2,
       "version_minor": 0
      },
      "text/plain": [
       "Downloading shards:   0%|          | 0/2 [00:00<?, ?it/s]"
      ]
     },
     "metadata": {},
     "output_type": "display_data"
    },
    {
     "data": {
      "application/vnd.jupyter.widget-view+json": {
       "model_id": "d840f6588d1f415eb79059dc16708311",
       "version_major": 2,
       "version_minor": 0
      },
      "text/plain": [
       "model-00001-of-00002.safetensors:   0%|          | 0.00/9.45G [00:00<?, ?B/s]"
      ]
     },
     "metadata": {},
     "output_type": "display_data"
    },
    {
     "data": {
      "application/vnd.jupyter.widget-view+json": {
       "model_id": "50001dfdfc714948aaf8c4a9647e28d3",
       "version_major": 2,
       "version_minor": 0
      },
      "text/plain": [
       "model-00002-of-00002.safetensors:   0%|          | 0.00/1.95G [00:00<?, ?B/s]"
      ]
     },
     "metadata": {},
     "output_type": "display_data"
    },
    {
     "data": {
      "application/vnd.jupyter.widget-view+json": {
       "model_id": "f5b169ffbee54483be3aa7e777d2a578",
       "version_major": 2,
       "version_minor": 0
      },
      "text/plain": [
       "Loading checkpoint shards:   0%|          | 0/2 [00:00<?, ?it/s]"
      ]
     },
     "metadata": {},
     "output_type": "display_data"
    },
    {
     "data": {
      "application/vnd.jupyter.widget-view+json": {
       "model_id": "80e572bcba514cc3bebfcbd9eeef3b66",
       "version_major": 2,
       "version_minor": 0
      },
      "text/plain": [
       "generation_config.json:   0%|          | 0.00/147 [00:00<?, ?B/s]"
      ]
     },
     "metadata": {},
     "output_type": "display_data"
    }
   ],
   "source": [
    "# The tokenizer takes in text and turns it into a representation that the model can understand\n",
    "tokenizer = T5Tokenizer.from_pretrained(\"google/flan-t5-xl\")\n",
    "# The generator generates text (it is the actual model)\n",
    "model = T5ForConditionalGeneration.from_pretrained(\"google/flan-t5-xl\", device_map=\"auto\")"
   ]
  },
  {
   "cell_type": "code",
   "execution_count": 11,
   "id": "04e2bec3-b899-4875-b52b-8a79efe7b04a",
   "metadata": {
    "execution": {
     "iopub.execute_input": "2024-07-12T15:38:51.908092Z",
     "iopub.status.busy": "2024-07-12T15:38:51.907691Z",
     "iopub.status.idle": "2024-07-12T15:38:51.920857Z",
     "shell.execute_reply": "2024-07-12T15:38:51.920167Z",
     "shell.execute_reply.started": "2024-07-12T15:38:51.908040Z"
    },
    "tags": []
   },
   "outputs": [
    {
     "name": "stdout",
     "output_type": "stream",
     "text": [
      "tensor([[13959,  1566,    12,  2968,    10,   571,   625,    33,    25,    58,\n",
      "             1]], device='cuda:0')\n"
     ]
    }
   ],
   "source": [
    "input_text = \"translate English to German: How old are you?\"\n",
    "input_ids = tokenizer(input_text, return_tensors=\"pt\").input_ids.to(\"cuda\")\n",
    "print(input_ids)"
   ]
  },
  {
   "cell_type": "code",
   "execution_count": 12,
   "id": "93a0aed7-d1fa-4338-9ad4-1800dd60406e",
   "metadata": {
    "execution": {
     "iopub.execute_input": "2024-07-12T15:39:05.361090Z",
     "iopub.status.busy": "2024-07-12T15:39:05.360700Z",
     "iopub.status.idle": "2024-07-12T15:39:07.392347Z",
     "shell.execute_reply": "2024-07-12T15:39:07.391589Z",
     "shell.execute_reply.started": "2024-07-12T15:39:05.361061Z"
    },
    "tags": []
   },
   "outputs": [
    {
     "name": "stderr",
     "output_type": "stream",
     "text": [
      "/opt/saturncloud/envs/saturn/lib/python3.9/site-packages/transformers/generation/utils.py:1249: UserWarning: Using the model-agnostic default `max_length` (=20) to control the generation length. We recommend setting `max_new_tokens` to control the maximum length of the generation.\n",
      "  warnings.warn(\n"
     ]
    },
    {
     "name": "stdout",
     "output_type": "stream",
     "text": [
      "<pad> Wie alt sind Sie?</s>\n"
     ]
    }
   ],
   "source": [
    "outputs = model.generate(input_ids)\n",
    "print(tokenizer.decode(outputs[0]))"
   ]
  },
  {
   "cell_type": "markdown",
   "id": "356a5c80-5b0f-4070-99d4-ef3c0ad50453",
   "metadata": {},
   "source": [
    "# Adapting Previous Code"
   ]
  },
  {
   "cell_type": "code",
   "execution_count": 16,
   "id": "293581f6-c680-4ed1-b9ae-157a7ad316b3",
   "metadata": {
    "execution": {
     "iopub.execute_input": "2024-07-12T15:48:10.450706Z",
     "iopub.status.busy": "2024-07-12T15:48:10.450315Z",
     "iopub.status.idle": "2024-07-12T15:48:11.047183Z",
     "shell.execute_reply": "2024-07-12T15:48:11.046407Z",
     "shell.execute_reply.started": "2024-07-12T15:48:10.450677Z"
    },
    "tags": []
   },
   "outputs": [
    {
     "data": {
      "text/plain": [
       "<minsearch.Index at 0x7fbbb3f23d30>"
      ]
     },
     "execution_count": 16,
     "metadata": {},
     "output_type": "execute_result"
    }
   ],
   "source": [
    "docs_url = 'https://github.com/DataTalksClub/llm-zoomcamp/blob/main/01-intro/documents.json?raw=1'\n",
    "docs_response = requests.get(docs_url)\n",
    "documents_raw = docs_response.json()\n",
    "\n",
    "documents = []\n",
    "\n",
    "for course in documents_raw:\n",
    "    course_name = course['course']\n",
    "\n",
    "    for doc in course['documents']:\n",
    "        doc['course'] = course_name\n",
    "        documents.append(doc)\n",
    "\n",
    "index = minsearch.Index(\n",
    "    text_fields=[\"question\", \"text\", \"section\"],\n",
    "    keyword_fields=[\"course\"]\n",
    ")\n",
    "\n",
    "index.fit(documents)"
   ]
  },
  {
   "cell_type": "code",
   "execution_count": 17,
   "id": "60e68793-fc00-4b90-90c0-12e5868645a1",
   "metadata": {
    "execution": {
     "iopub.execute_input": "2024-07-12T15:48:11.285193Z",
     "iopub.status.busy": "2024-07-12T15:48:11.284805Z",
     "iopub.status.idle": "2024-07-12T15:48:11.289627Z",
     "shell.execute_reply": "2024-07-12T15:48:11.288797Z",
     "shell.execute_reply.started": "2024-07-12T15:48:11.285165Z"
    },
    "tags": []
   },
   "outputs": [],
   "source": [
    "def search(query):\n",
    "    boost = {'question': 3.0, 'section': 0.5}\n",
    "\n",
    "    results = index.search(\n",
    "        query=query,\n",
    "        filter_dict={'course': 'data-engineering-zoomcamp'},\n",
    "        boost_dict=boost,\n",
    "        num_results=5\n",
    "    )\n",
    "\n",
    "    return results"
   ]
  },
  {
   "cell_type": "code",
   "execution_count": 23,
   "id": "316092a3-69e0-4d70-b295-9c91014327cb",
   "metadata": {
    "execution": {
     "iopub.execute_input": "2024-07-12T15:52:06.047227Z",
     "iopub.status.busy": "2024-07-12T15:52:06.046809Z",
     "iopub.status.idle": "2024-07-12T15:52:06.052697Z",
     "shell.execute_reply": "2024-07-12T15:52:06.051845Z",
     "shell.execute_reply.started": "2024-07-12T15:52:06.047197Z"
    },
    "tags": []
   },
   "outputs": [],
   "source": [
    "def build_prompt(query, search_results):\n",
    "    prompt_template = \"\"\"\n",
    "You're a course teaching assistant. Answer the QUESTION based on the CONTEXT from the FAQ database.\n",
    "Use only the facts from the CONTEXT when answering the QUESTION.\n",
    "\n",
    "QUESTION: {question}\n",
    "\n",
    "CONTEXT: \n",
    "{context}\n",
    "\"\"\".strip()\n",
    "\n",
    "    context = \"\"\n",
    "    \n",
    "    for doc in search_results:\n",
    "        context = context + f\"section: {doc['section']}\\nquestion: {doc['question']}\\nanswer: {doc['text']}\\n\\n\"\n",
    "    \n",
    "    prompt = prompt_template.format(question=query, context=context).strip()\n",
    "    return prompt\n",
    "\n",
    "def llm(prompt):\n",
    "    input_ids = tokenizer(prompt, return_tensors=\"pt\").input_ids.to(\"cuda\")\n",
    "    outputs = model.generate(input_ids, max_length=100)\n",
    "    result = tokenizer.decode(outputs[0])\n",
    "    return result"
   ]
  },
  {
   "cell_type": "code",
   "execution_count": 24,
   "id": "225711fd-179d-4ca8-a80a-8a7ffaa36490",
   "metadata": {
    "execution": {
     "iopub.execute_input": "2024-07-12T15:52:06.898337Z",
     "iopub.status.busy": "2024-07-12T15:52:06.897948Z",
     "iopub.status.idle": "2024-07-12T15:52:06.902442Z",
     "shell.execute_reply": "2024-07-12T15:52:06.901603Z",
     "shell.execute_reply.started": "2024-07-12T15:52:06.898310Z"
    },
    "tags": []
   },
   "outputs": [],
   "source": [
    "def rag(query):\n",
    "    search_results = search(query)\n",
    "    prompt = build_prompt(query, search_results)\n",
    "    answer = llm(prompt)\n",
    "    return answer"
   ]
  },
  {
   "cell_type": "code",
   "execution_count": 25,
   "id": "1df7f61c-7bd0-42a6-b20a-2dff3f7ed9f4",
   "metadata": {
    "execution": {
     "iopub.execute_input": "2024-07-12T15:52:07.452810Z",
     "iopub.status.busy": "2024-07-12T15:52:07.452420Z",
     "iopub.status.idle": "2024-07-12T15:52:09.399244Z",
     "shell.execute_reply": "2024-07-12T15:52:09.398381Z",
     "shell.execute_reply.started": "2024-07-12T15:52:07.452785Z"
    },
    "tags": []
   },
   "outputs": [
    {
     "data": {
      "text/plain": [
       "\"<pad> Yes, even if you don't register, you're still eligible to submit the homeworks. Be aware, however, that there will be deadlines for turning in the final projects. So don't leave everything for the last minute.</s>\""
      ]
     },
     "execution_count": 25,
     "metadata": {},
     "output_type": "execute_result"
    }
   ],
   "source": [
    "rag(\"I just discovered the course. Can I still join it?\")"
   ]
  },
  {
   "cell_type": "code",
   "execution_count": null,
   "id": "0739b499-9cf8-4f0c-95c7-867920e83a6c",
   "metadata": {},
   "outputs": [],
   "source": [
    "\n",
    "\n"
   ]
  }
 ],
 "metadata": {
  "kernelspec": {
   "display_name": "saturn (Python 3)",
   "language": "python",
   "name": "python3"
  },
  "language_info": {
   "codemirror_mode": {
    "name": "ipython",
    "version": 3
   },
   "file_extension": ".py",
   "mimetype": "text/x-python",
   "name": "python",
   "nbconvert_exporter": "python",
   "pygments_lexer": "ipython3",
   "version": "3.9.18"
  }
 },
 "nbformat": 4,
 "nbformat_minor": 5
}
