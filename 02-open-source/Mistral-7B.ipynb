{
 "cells": [
  {
   "cell_type": "code",
   "execution_count": 1,
   "id": "4dd55a8e-a9e5-4f37-9185-53eb2c4d210b",
   "metadata": {
    "execution": {
     "iopub.execute_input": "2024-07-13T07:04:48.207723Z",
     "iopub.status.busy": "2024-07-13T07:04:48.207327Z",
     "iopub.status.idle": "2024-07-13T07:04:48.214697Z",
     "shell.execute_reply": "2024-07-13T07:04:48.213888Z",
     "shell.execute_reply.started": "2024-07-13T07:04:48.207694Z"
    },
    "tags": []
   },
   "outputs": [],
   "source": [
    "import os\n",
    "os.environ['HF_HOME'] = '/run/cache/'"
   ]
  },
  {
   "cell_type": "code",
   "execution_count": 2,
   "id": "960cde09-e6c3-41f9-b627-cac99e289768",
   "metadata": {
    "execution": {
     "iopub.execute_input": "2024-07-13T07:04:59.361284Z",
     "iopub.status.busy": "2024-07-13T07:04:59.360920Z",
     "iopub.status.idle": "2024-07-13T07:05:00.736570Z",
     "shell.execute_reply": "2024-07-13T07:05:00.735810Z",
     "shell.execute_reply.started": "2024-07-13T07:04:59.361255Z"
    },
    "tags": []
   },
   "outputs": [
    {
     "name": "stdout",
     "output_type": "stream",
     "text": [
      "--2024-07-13 07:05:00--  https://raw.githubusercontent.com/alexeygrigorev/minsearch/main/minsearch.py\n",
      "Resolving raw.githubusercontent.com (raw.githubusercontent.com)... 185.199.108.133, 185.199.111.133, 185.199.109.133, ...\n",
      "Connecting to raw.githubusercontent.com (raw.githubusercontent.com)|185.199.108.133|:443... connected.\n",
      "HTTP request sent, awaiting response... 200 OK\n",
      "Length: 3832 (3.7K) [text/plain]\n",
      "Saving to: ‘minsearch.py’\n",
      "\n",
      "minsearch.py        100%[===================>]   3.74K  --.-KB/s    in 0s      \n",
      "\n",
      "2024-07-13 07:05:00 (69.5 MB/s) - ‘minsearch.py’ saved [3832/3832]\n",
      "\n"
     ]
    }
   ],
   "source": [
    "!rm -f minsearch.py\n",
    "!wget https://raw.githubusercontent.com/alexeygrigorev/minsearch/main/minsearch.py"
   ]
  },
  {
   "cell_type": "code",
   "execution_count": 20,
   "id": "702de10a-dc5f-49c0-a01a-408ace7bae05",
   "metadata": {
    "execution": {
     "iopub.execute_input": "2024-07-13T07:34:56.058328Z",
     "iopub.status.busy": "2024-07-13T07:34:56.057936Z",
     "iopub.status.idle": "2024-07-13T07:34:56.620359Z",
     "shell.execute_reply": "2024-07-13T07:34:56.619734Z",
     "shell.execute_reply.started": "2024-07-13T07:34:56.058302Z"
    },
    "tags": []
   },
   "outputs": [],
   "source": [
    "import requests \n",
    "import minsearch\n",
    "from transformers import AutoModelForCausalLM, AutoTokenizer, pipeline\n",
    "from huggingface_hub import login"
   ]
  },
  {
   "cell_type": "code",
   "execution_count": 11,
   "id": "85836fd9-b754-4f22-8316-1c481c693286",
   "metadata": {
    "execution": {
     "iopub.execute_input": "2024-07-13T07:19:39.351622Z",
     "iopub.status.busy": "2024-07-13T07:19:39.351214Z",
     "iopub.status.idle": "2024-07-13T07:19:39.411872Z",
     "shell.execute_reply": "2024-07-13T07:19:39.411128Z",
     "shell.execute_reply.started": "2024-07-13T07:19:39.351593Z"
    },
    "tags": []
   },
   "outputs": [
    {
     "name": "stdout",
     "output_type": "stream",
     "text": [
      "The token has not been saved to the git credentials helper. Pass `add_to_git_credential=True` in this function directly or `--add-to-git-credential` if using via `huggingface-cli` if you want to set the git credential as well.\n",
      "Token is valid (permission: read).\n",
      "Your token has been saved to /run/cache/token\n",
      "Login successful\n"
     ]
    }
   ],
   "source": [
    "login(os.environ['HF_TOKEN'])"
   ]
  },
  {
   "cell_type": "markdown",
   "id": "f50fd67c-56cb-4920-ae81-fc6d6b2157e3",
   "metadata": {},
   "source": [
    "# Testing Mistral\n",
    "\n",
    "This model needs Hugging Face Hub authentication. Make sure you have HF_TOKEN as an environment variable."
   ]
  },
  {
   "cell_type": "code",
   "execution_count": 12,
   "id": "44783f5a-3658-449d-9516-5d8de6a14572",
   "metadata": {
    "execution": {
     "iopub.execute_input": "2024-07-13T07:20:16.560163Z",
     "iopub.status.busy": "2024-07-13T07:20:16.559786Z",
     "iopub.status.idle": "2024-07-13T07:23:51.590742Z",
     "shell.execute_reply": "2024-07-13T07:23:51.590124Z",
     "shell.execute_reply.started": "2024-07-13T07:20:16.560134Z"
    },
    "tags": []
   },
   "outputs": [
    {
     "data": {
      "application/vnd.jupyter.widget-view+json": {
       "model_id": "67fa663872cb424797152c278fb93029",
       "version_major": 2,
       "version_minor": 0
      },
      "text/plain": [
       "config.json:   0%|          | 0.00/571 [00:00<?, ?B/s]"
      ]
     },
     "metadata": {},
     "output_type": "display_data"
    },
    {
     "name": "stderr",
     "output_type": "stream",
     "text": [
      "The `load_in_4bit` and `load_in_8bit` arguments are deprecated and will be removed in the future versions. Please, pass a `BitsAndBytesConfig` object in `quantization_config` argument instead.\n"
     ]
    },
    {
     "data": {
      "application/vnd.jupyter.widget-view+json": {
       "model_id": "f64a0da66128458080948e657f28e2ec",
       "version_major": 2,
       "version_minor": 0
      },
      "text/plain": [
       "model.safetensors.index.json:   0%|          | 0.00/25.1k [00:00<?, ?B/s]"
      ]
     },
     "metadata": {},
     "output_type": "display_data"
    },
    {
     "data": {
      "application/vnd.jupyter.widget-view+json": {
       "model_id": "a389233503c7406899aef7dff0133efd",
       "version_major": 2,
       "version_minor": 0
      },
      "text/plain": [
       "Downloading shards:   0%|          | 0/2 [00:00<?, ?it/s]"
      ]
     },
     "metadata": {},
     "output_type": "display_data"
    },
    {
     "data": {
      "application/vnd.jupyter.widget-view+json": {
       "model_id": "b110265d37c04d8397d571a994ef638d",
       "version_major": 2,
       "version_minor": 0
      },
      "text/plain": [
       "model-00001-of-00002.safetensors:   0%|          | 0.00/9.94G [00:00<?, ?B/s]"
      ]
     },
     "metadata": {},
     "output_type": "display_data"
    },
    {
     "data": {
      "application/vnd.jupyter.widget-view+json": {
       "model_id": "dc54ba3a332348358432db3c377e7c6b",
       "version_major": 2,
       "version_minor": 0
      },
      "text/plain": [
       "model-00002-of-00002.safetensors:   0%|          | 0.00/4.54G [00:00<?, ?B/s]"
      ]
     },
     "metadata": {},
     "output_type": "display_data"
    },
    {
     "data": {
      "application/vnd.jupyter.widget-view+json": {
       "model_id": "d71659f9e4f94534a172e2e9fc9b1e70",
       "version_major": 2,
       "version_minor": 0
      },
      "text/plain": [
       "Loading checkpoint shards:   0%|          | 0/2 [00:00<?, ?it/s]"
      ]
     },
     "metadata": {},
     "output_type": "display_data"
    },
    {
     "data": {
      "application/vnd.jupyter.widget-view+json": {
       "model_id": "bfccc965552d4c5aa3b5f55c9cd9eaa8",
       "version_major": 2,
       "version_minor": 0
      },
      "text/plain": [
       "generation_config.json:   0%|          | 0.00/116 [00:00<?, ?B/s]"
      ]
     },
     "metadata": {},
     "output_type": "display_data"
    }
   ],
   "source": [
    "model = AutoModelForCausalLM.from_pretrained(\n",
    "    \"mistralai/Mistral-7B-v0.1\", device_map=\"auto\", load_in_4bit=True\n",
    ")"
   ]
  },
  {
   "cell_type": "code",
   "execution_count": 13,
   "id": "a6438343-98e3-4669-b0fe-fa1aafe45c8f",
   "metadata": {
    "execution": {
     "iopub.execute_input": "2024-07-13T07:23:51.592328Z",
     "iopub.status.busy": "2024-07-13T07:23:51.592006Z",
     "iopub.status.idle": "2024-07-13T07:23:52.159281Z",
     "shell.execute_reply": "2024-07-13T07:23:52.158628Z",
     "shell.execute_reply.started": "2024-07-13T07:23:51.592284Z"
    },
    "tags": []
   },
   "outputs": [
    {
     "data": {
      "application/vnd.jupyter.widget-view+json": {
       "model_id": "dc8a2b6b576342d69238c6994c3e6993",
       "version_major": 2,
       "version_minor": 0
      },
      "text/plain": [
       "tokenizer_config.json:   0%|          | 0.00/996 [00:00<?, ?B/s]"
      ]
     },
     "metadata": {},
     "output_type": "display_data"
    },
    {
     "data": {
      "application/vnd.jupyter.widget-view+json": {
       "model_id": "67eeef52a0cb42edbc670b891f138f00",
       "version_major": 2,
       "version_minor": 0
      },
      "text/plain": [
       "tokenizer.model:   0%|          | 0.00/493k [00:00<?, ?B/s]"
      ]
     },
     "metadata": {},
     "output_type": "display_data"
    },
    {
     "data": {
      "application/vnd.jupyter.widget-view+json": {
       "model_id": "55306ce6b4744b28b17b0dc577657dce",
       "version_major": 2,
       "version_minor": 0
      },
      "text/plain": [
       "tokenizer.json:   0%|          | 0.00/1.80M [00:00<?, ?B/s]"
      ]
     },
     "metadata": {},
     "output_type": "display_data"
    },
    {
     "data": {
      "application/vnd.jupyter.widget-view+json": {
       "model_id": "57d1927b622e43d199860cb2960263d7",
       "version_major": 2,
       "version_minor": 0
      },
      "text/plain": [
       "special_tokens_map.json:   0%|          | 0.00/414 [00:00<?, ?B/s]"
      ]
     },
     "metadata": {},
     "output_type": "display_data"
    }
   ],
   "source": [
    "tokenizer = AutoTokenizer.from_pretrained(\"mistralai/Mistral-7B-v0.1\", padding_side=\"left\")\n",
    "model_inputs = tokenizer([\"A list of colors: red, blue\"], return_tensors=\"pt\").to(\"cuda\")"
   ]
  },
  {
   "cell_type": "code",
   "execution_count": 14,
   "id": "ecc215dc-b5b3-4f1c-9523-8d031c5072f0",
   "metadata": {
    "execution": {
     "iopub.execute_input": "2024-07-13T07:24:13.931407Z",
     "iopub.status.busy": "2024-07-13T07:24:13.930992Z",
     "iopub.status.idle": "2024-07-13T07:24:16.943214Z",
     "shell.execute_reply": "2024-07-13T07:24:16.942277Z",
     "shell.execute_reply.started": "2024-07-13T07:24:13.931380Z"
    },
    "tags": []
   },
   "outputs": [
    {
     "name": "stderr",
     "output_type": "stream",
     "text": [
      "Setting `pad_token_id` to `eos_token_id`:2 for open-end generation.\n",
      "/opt/saturncloud/envs/saturn/lib/python3.9/site-packages/transformers/generation/utils.py:1249: UserWarning: Using the model-agnostic default `max_length` (=20) to control the generation length. We recommend setting `max_new_tokens` to control the maximum length of the generation.\n",
      "  warnings.warn(\n",
      "/opt/saturncloud/envs/saturn/lib/python3.9/site-packages/bitsandbytes/nn/modules.py:426: UserWarning: Input type into Linear4bit is torch.float16, but bnb_4bit_compute_dtype=torch.float32 (default). This will lead to slow inference or training speed.\n",
      "  warnings.warn(\n"
     ]
    },
    {
     "data": {
      "text/plain": [
       "'A list of colors: red, blue, green, yellow, orange, purple, pink,'"
      ]
     },
     "execution_count": 14,
     "metadata": {},
     "output_type": "execute_result"
    }
   ],
   "source": [
    "generated_ids = model.generate(**model_inputs)\n",
    "tokenizer.batch_decode(generated_ids, skip_special_tokens=True)[0]"
   ]
  },
  {
   "cell_type": "code",
   "execution_count": 22,
   "id": "e0da9498-f87a-4bd6-b629-1ea851f31989",
   "metadata": {
    "execution": {
     "iopub.execute_input": "2024-07-13T07:36:09.771284Z",
     "iopub.status.busy": "2024-07-13T07:36:09.770889Z",
     "iopub.status.idle": "2024-07-13T07:36:09.776015Z",
     "shell.execute_reply": "2024-07-13T07:36:09.775137Z",
     "shell.execute_reply.started": "2024-07-13T07:36:09.771255Z"
    },
    "tags": []
   },
   "outputs": [],
   "source": [
    "generator = pipeline(\"text-generation\", model=model, tokenizer=tokenizer)"
   ]
  },
  {
   "cell_type": "markdown",
   "id": "a5384a2d-2dec-46dc-937b-3ed6bd09b7a2",
   "metadata": {},
   "source": [
    "# Adding to RAG Workflow"
   ]
  },
  {
   "cell_type": "code",
   "execution_count": 24,
   "id": "e625c185-2463-4598-bb99-1c3a169ae7c9",
   "metadata": {
    "execution": {
     "iopub.execute_input": "2024-07-13T07:39:51.235517Z",
     "iopub.status.busy": "2024-07-13T07:39:51.235121Z",
     "iopub.status.idle": "2024-07-13T07:39:51.641006Z",
     "shell.execute_reply": "2024-07-13T07:39:51.640166Z",
     "shell.execute_reply.started": "2024-07-13T07:39:51.235487Z"
    },
    "tags": []
   },
   "outputs": [
    {
     "data": {
      "text/plain": [
       "<minsearch.Index at 0x7fcddd93f070>"
      ]
     },
     "execution_count": 24,
     "metadata": {},
     "output_type": "execute_result"
    }
   ],
   "source": [
    "docs_url = 'https://github.com/DataTalksClub/llm-zoomcamp/blob/main/01-intro/documents.json?raw=1'\n",
    "docs_response = requests.get(docs_url)\n",
    "documents_raw = docs_response.json()\n",
    "\n",
    "documents = []\n",
    "\n",
    "for course in documents_raw:\n",
    "    course_name = course['course']\n",
    "\n",
    "    for doc in course['documents']:\n",
    "        doc['course'] = course_name\n",
    "        documents.append(doc)\n",
    "\n",
    "index = minsearch.Index(\n",
    "    text_fields=[\"question\", \"text\", \"section\"],\n",
    "    keyword_fields=[\"course\"]\n",
    ")\n",
    "\n",
    "index.fit(documents)"
   ]
  },
  {
   "cell_type": "code",
   "execution_count": 32,
   "id": "96cbb186-8ccc-4b1f-82d4-c7bbbe12ffea",
   "metadata": {
    "execution": {
     "iopub.execute_input": "2024-07-13T07:41:03.359669Z",
     "iopub.status.busy": "2024-07-13T07:41:03.359180Z",
     "iopub.status.idle": "2024-07-13T07:41:03.363826Z",
     "shell.execute_reply": "2024-07-13T07:41:03.363142Z",
     "shell.execute_reply.started": "2024-07-13T07:41:03.359637Z"
    },
    "tags": []
   },
   "outputs": [],
   "source": [
    "def search(query):\n",
    "    boost = {'question': 3.0, 'section': 0.5}\n",
    "\n",
    "    results = index.search(\n",
    "        query=query,\n",
    "        filter_dict={'course': 'data-engineering-zoomcamp'},\n",
    "        boost_dict=boost,\n",
    "        num_results=3\n",
    "    )\n",
    "\n",
    "    return results"
   ]
  },
  {
   "cell_type": "code",
   "execution_count": 36,
   "id": "67fd19ab-f6ed-4747-b1bd-7c7208b89d5e",
   "metadata": {
    "execution": {
     "iopub.execute_input": "2024-07-13T07:41:41.029342Z",
     "iopub.status.busy": "2024-07-13T07:41:41.028934Z",
     "iopub.status.idle": "2024-07-13T07:41:41.034520Z",
     "shell.execute_reply": "2024-07-13T07:41:41.033787Z",
     "shell.execute_reply.started": "2024-07-13T07:41:41.029316Z"
    },
    "tags": []
   },
   "outputs": [],
   "source": [
    "def build_prompt(query, search_results):\n",
    "    prompt_template = \"\"\"\n",
    "You're a course teaching assistant. Answer the QUESTION based on the CONTEXT from the FAQ database.\n",
    "Use only the facts from the CONTEXT when answering the QUESTION.\n",
    "\n",
    "QUESTION: {question}\n",
    "\n",
    "CONTEXT: \n",
    "{context}\n",
    "\"\"\".strip()\n",
    "\n",
    "    context = \"\"\n",
    "    \n",
    "    for doc in search_results:\n",
    "        context = context + f\"{doc['question']}\\n{doc['text']}\\n\\n\"\n",
    "    \n",
    "    prompt = prompt_template.format(question=query, context=context).strip()\n",
    "    return prompt\n",
    "\n",
    "def llm(prompt):\n",
    "    response = generator(prompt, max_length=500, temperature=0.7, top_p=0.95, num_return_sequences=1)\n",
    "    response = response[0]['generated_text']\n",
    "    return response[len(prompt):].strip()"
   ]
  },
  {
   "cell_type": "code",
   "execution_count": 37,
   "id": "f9f71378-c21d-48ba-8553-a2fc8f6b04df",
   "metadata": {
    "execution": {
     "iopub.execute_input": "2024-07-13T07:41:41.456588Z",
     "iopub.status.busy": "2024-07-13T07:41:41.456198Z",
     "iopub.status.idle": "2024-07-13T07:41:41.460325Z",
     "shell.execute_reply": "2024-07-13T07:41:41.459659Z",
     "shell.execute_reply.started": "2024-07-13T07:41:41.456560Z"
    },
    "tags": []
   },
   "outputs": [],
   "source": [
    "def rag(query):\n",
    "    search_results = search(query)\n",
    "    prompt = build_prompt(query, search_results)\n",
    "    answer = llm(prompt)\n",
    "    return answer.strip()"
   ]
  },
  {
   "cell_type": "code",
   "execution_count": 38,
   "id": "261d0ac5-9c88-4023-acd0-1f0197446783",
   "metadata": {
    "execution": {
     "iopub.execute_input": "2024-07-13T07:41:41.872430Z",
     "iopub.status.busy": "2024-07-13T07:41:41.872038Z",
     "iopub.status.idle": "2024-07-13T07:41:55.697647Z",
     "shell.execute_reply": "2024-07-13T07:41:55.696682Z",
     "shell.execute_reply.started": "2024-07-13T07:41:41.872401Z"
    },
    "tags": []
   },
   "outputs": [
    {
     "name": "stderr",
     "output_type": "stream",
     "text": [
      "Setting `pad_token_id` to `eos_token_id`:2 for open-end generation.\n"
     ]
    },
    {
     "data": {
      "text/plain": [
       "'Course - When will the course finish?\\nThe course will finish on 15th Feb 2024.\\n\\nCourse - How long will the course last?\\nThe course will last 4 weeks.\\n\\nCourse - How many hours per week will I need to dedicate to the course?\\nThe course will be 4 hours per week.\\n\\nCourse - How many hours per week will I need to dedicate to the course?\\nThe course will be 4 hours per week.\\n\\nCourse - How many hours per week will I need to dedicate to the course?\\nThe course will be 4 hours per week.\\n\\nCourse - How many hours per week will I need to dedicate to'"
      ]
     },
     "execution_count": 38,
     "metadata": {},
     "output_type": "execute_result"
    }
   ],
   "source": [
    "rag(\"I just discovered the course. Can I still join it?\")"
   ]
  },
  {
   "cell_type": "code",
   "execution_count": null,
   "id": "a60b21ed-8c14-4c1f-9d67-83164ea0d923",
   "metadata": {},
   "outputs": [],
   "source": []
  }
 ],
 "metadata": {
  "kernelspec": {
   "display_name": "saturn (Python 3)",
   "language": "python",
   "name": "python3"
  },
  "language_info": {
   "codemirror_mode": {
    "name": "ipython",
    "version": 3
   },
   "file_extension": ".py",
   "mimetype": "text/x-python",
   "name": "python",
   "nbconvert_exporter": "python",
   "pygments_lexer": "ipython3",
   "version": "3.9.18"
  }
 },
 "nbformat": 4,
 "nbformat_minor": 5
}
