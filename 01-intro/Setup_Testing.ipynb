{
 "cells": [
  {
   "cell_type": "code",
   "execution_count": 2,
   "id": "34c3909c-91b0-439d-bd56-56cc34e29ae7",
   "metadata": {},
   "outputs": [],
   "source": [
    "from openai import OpenAI"
   ]
  },
  {
   "cell_type": "code",
   "execution_count": 3,
   "id": "6c1cc88d-30e0-41ce-8407-bceae27618f6",
   "metadata": {},
   "outputs": [],
   "source": [
    "client = OpenAI()"
   ]
  },
  {
   "cell_type": "code",
   "execution_count": 4,
   "id": "b9527f75-d769-41cd-9c74-a329788e105d",
   "metadata": {},
   "outputs": [],
   "source": [
    "response = client.chat.completions.create(\n",
    "    model='gpt-4o',\n",
    "    messages = [{\"role\": \"user\", \"content\": \"Is it too late to join the course?\"}]\n",
    ")"
   ]
  },
  {
   "cell_type": "code",
   "execution_count": 7,
   "id": "8079fa05-1441-42a3-b882-0fa67ebb0eac",
   "metadata": {},
   "outputs": [
    {
     "data": {
      "text/plain": [
       "\"It's not too late to join a course, but this can depend on several factors such as the course's enrollment deadlines, its start date, and the policies of the institution offering it. There are a few steps you can take to find out more:\\n\\n1. **Check Enrollment Deadlines:** Visit the course or institution's website to find information on enrollment deadlines and start dates.\\n2. **Contact the Course Provider:** Reach out directly to the course provider or the administrative office. They can provide specific details and may offer guidance on late enrollments.\\n3. **Look for Online Options:** If you find that in-person courses are no longer accepting students, many institutions offer online learning options with more flexible start dates.\\n4. **Consider Self-Paced Courses:** Some courses operate on a self-paced model, meaning you can start anytime and progress according to your own schedule.\\n\\nIf you’re still interested, it's always worth reaching out to inquire, as there may be exceptions or waiting lists available.\""
      ]
     },
     "execution_count": 7,
     "metadata": {},
     "output_type": "execute_result"
    }
   ],
   "source": [
    "response.choices[0].message.content"
   ]
  },
  {
   "cell_type": "code",
   "execution_count": null,
   "id": "7889d589-72b6-48f9-84eb-b19e522a1ed9",
   "metadata": {},
   "outputs": [],
   "source": []
  }
 ],
 "metadata": {
  "kernelspec": {
   "display_name": "Python 3 (ipykernel)",
   "language": "python",
   "name": "python3"
  },
  "language_info": {
   "codemirror_mode": {
    "name": "ipython",
    "version": 3
   },
   "file_extension": ".py",
   "mimetype": "text/x-python",
   "name": "python",
   "nbconvert_exporter": "python",
   "pygments_lexer": "ipython3",
   "version": "3.10.13"
  }
 },
 "nbformat": 4,
 "nbformat_minor": 5
}
