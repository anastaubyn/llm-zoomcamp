{
 "cells": [
  {
   "cell_type": "code",
   "execution_count": 1,
   "id": "8c07757b-9024-4a5a-acf2-a0690b85290b",
   "metadata": {},
   "outputs": [],
   "source": [
    "import RetrievalAndSearch.minsearch as minsearch\n",
    "import json\n",
    "from openai import OpenAI"
   ]
  },
  {
   "cell_type": "code",
   "execution_count": 2,
   "id": "82c28319-ff82-4f49-abe6-6295a247b57c",
   "metadata": {},
   "outputs": [],
   "source": [
    "def read_documents(doc_path):\n",
    "    with open(doc_path, 'rt') as f_in:\n",
    "        docs_raw = json.load(f_in)\n",
    "\n",
    "    documents = []\n",
    "\n",
    "    for course_dict in docs_raw:\n",
    "        for doc in course_dict['documents']:\n",
    "            doc['course'] = course_dict['course']\n",
    "            documents.append(doc)\n",
    "\n",
    "    return documents"
   ]
  },
  {
   "cell_type": "code",
   "execution_count": 3,
   "id": "b0cae219-1ea5-4799-94b5-48b91d8f3642",
   "metadata": {},
   "outputs": [],
   "source": [
    "def search(query, documents):\n",
    "    index = minsearch.Index(\n",
    "        text_fields=[\"question\", \"text\", \"section\"],\n",
    "        keyword_fields=[\"course\"]\n",
    "    )\n",
    "\n",
    "    index.fit(documents)\n",
    "    \n",
    "    boost = {'question': 3, 'section': 0.5}\n",
    "\n",
    "    results = index.search(\n",
    "        query=query,\n",
    "        filter_dict={'course': 'data-engineering-zoomcamp'},\n",
    "        boost_dict=boost,\n",
    "        num_results=10\n",
    "    )\n",
    "\n",
    "    return results"
   ]
  },
  {
   "cell_type": "code",
   "execution_count": 4,
   "id": "a8f5ae2e-7922-4905-8bde-6ee7b61ea19c",
   "metadata": {},
   "outputs": [],
   "source": [
    "def build_prompt(query, search_results):\n",
    "    prompt_template = \"\"\"\n",
    "    You're a course teaching assistant. Answer the QUESTION based on the CONTEXT from the FAQ database. \n",
    "    Use only the facts from the CONTEXT when answering the QUESTION.\n",
    "    If the CONTEXT doesn't contain the answer, output NONE.\n",
    "    \n",
    "    QUESTION: {question}\n",
    "    \n",
    "    CONTEXT:\n",
    "    {context}\n",
    "    \"\"\".strip()\n",
    "\n",
    "    context = \"\"\n",
    "\n",
    "    for doc in search_results:\n",
    "        context = context + f\"section: {doc['section']}\\nquestion: {doc['question']}\\nanswer: {doc['text']}\\n\\n\"\n",
    "\n",
    "    prompt = prompt_template.format(question=query, context=context).strip()\n",
    "\n",
    "    return prompt"
   ]
  },
  {
   "cell_type": "code",
   "execution_count": 5,
   "id": "ff4821ea-daf3-48a7-96ac-6cb307eabb98",
   "metadata": {},
   "outputs": [],
   "source": [
    "def llm(prompt):\n",
    "    client = OpenAI()\n",
    "    \n",
    "    response = client.chat.completions.create(\n",
    "        model='gpt-4o',\n",
    "        messages=[{'role': 'user', 'content':prompt}]\n",
    "    )\n",
    "\n",
    "    return response.choices[0].message.content"
   ]
  },
  {
   "cell_type": "code",
   "execution_count": 6,
   "id": "c602aa81-0df5-44e4-88d3-95aa4e0ecf80",
   "metadata": {},
   "outputs": [],
   "source": [
    "def rag(query, doc_path):\n",
    "    documents = read_documents(doc_path)\n",
    "    search_results = search(query, documents)\n",
    "    prompt = build_prompt(query, search_results)\n",
    "    answer = llm(prompt)\n",
    "    return answer"
   ]
  },
  {
   "cell_type": "code",
   "execution_count": 7,
   "id": "abd84e93-41fc-492d-82ed-e22717b2fe61",
   "metadata": {},
   "outputs": [
    {
     "data": {
      "text/plain": [
       "\"To run Kafka, you should refer to the specific commands provided for your use case:\\n\\n1. **For Java Kafka (running producer/consumer/kstreams/etc in terminal):**\\n   In your project directory, run:\\n   ```\\n   java -cp build/libs/<jar_name>-1.0-SNAPSHOT.jar:out src/main/java/org/example/JsonProducer.java\\n   ```\\n\\n2. **For Python Kafka (module not found or virtual environment setup):**\\n   a. Create a virtual environment and run `requirements.txt` and the Python files in that environment.\\n   ```bash\\n   python -m venv env\\n   source env/bin/activate\\n   pip install -r ../requirements.txt\\n   ```\\n   b. To activate it (every time you need the virtual env):\\n   ```bash\\n   source env/bin/activate\\n   ```\\n   c. To deactivate it:\\n   ```bash\\n   deactivate\\n   ```\\n\\n3. **For Python Kafka (resolving `NoBrokersAvailable` error):**\\n   If you encounter this error, it is likely because your Kafka broker Docker container is not running. Check by running:\\n   ```bash\\n   docker ps\\n   ```\\n   Then in the Docker Compose YAML file folder, run:\\n   ```bash\\n   docker compose up -d\\n   ```\\n   to start all the instances.\\n\\nGiven the context, these are the relevant instructions for running Kafka based on whether you are using Java or Python, and addressing potential setup issues. \\n\\nIf you need more specific details about running Kafka that aren't covered here, please provide further context or check additional resources.\""
      ]
     },
     "execution_count": 7,
     "metadata": {},
     "output_type": "execute_result"
    }
   ],
   "source": [
    "doc_path = 'RetrievalAndSearch/documents.json'\n",
    "query = \"How do I run Kafka?\"\n",
    "rag(query, doc_path)"
   ]
  },
  {
   "cell_type": "code",
   "execution_count": null,
   "id": "aedb1691-7b1c-4507-bdd2-e7ce03ccb9d3",
   "metadata": {},
   "outputs": [],
   "source": []
  }
 ],
 "metadata": {
  "kernelspec": {
   "display_name": "Python 3 (ipykernel)",
   "language": "python",
   "name": "python3"
  },
  "language_info": {
   "codemirror_mode": {
    "name": "ipython",
    "version": 3
   },
   "file_extension": ".py",
   "mimetype": "text/x-python",
   "name": "python",
   "nbconvert_exporter": "python",
   "pygments_lexer": "ipython3",
   "version": "3.10.13"
  }
 },
 "nbformat": 4,
 "nbformat_minor": 5
}
