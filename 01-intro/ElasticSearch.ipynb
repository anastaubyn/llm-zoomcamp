{
 "cells": [
  {
   "cell_type": "code",
   "execution_count": 1,
   "id": "8c07757b-9024-4a5a-acf2-a0690b85290b",
   "metadata": {},
   "outputs": [],
   "source": [
    "import RetrievalAndSearch.minsearch as minsearch\n",
    "import json\n",
    "from openai import OpenAI\n",
    "from elasticsearch import Elasticsearch\n",
    "from tqdm.auto import tqdm"
   ]
  },
  {
   "cell_type": "code",
   "execution_count": 2,
   "id": "82c28319-ff82-4f49-abe6-6295a247b57c",
   "metadata": {},
   "outputs": [],
   "source": [
    "def read_documents(doc_path):\n",
    "    with open(doc_path, 'rt') as f_in:\n",
    "        docs_raw = json.load(f_in)\n",
    "\n",
    "    documents = []\n",
    "\n",
    "    for course_dict in docs_raw:\n",
    "        for doc in course_dict['documents']:\n",
    "            doc['course'] = course_dict['course']\n",
    "            documents.append(doc)\n",
    "\n",
    "    return documents"
   ]
  },
  {
   "cell_type": "code",
   "execution_count": 3,
   "id": "b0cae219-1ea5-4799-94b5-48b91d8f3642",
   "metadata": {},
   "outputs": [],
   "source": [
    "def search(query, documents):\n",
    "    es_client = Elasticsearch(\"http://localhost:9200\")\n",
    "    \n",
    "    index_name = \"course-questions-de-zoomcamp\"\n",
    "\n",
    "    if not es_client.indices.exists(index=index_name):\n",
    "\n",
    "        index_settings = {\n",
    "            \"settings\": {\n",
    "                \"number_of_shards\": 1,\n",
    "                \"number_of_replicas\": 0\n",
    "            },\n",
    "            \"mappings\": {\n",
    "                \"properties\": {\n",
    "                    \"text\": {\"type\": \"text\"},\n",
    "                    \"section\": {\"type\": \"text\"},\n",
    "                    \"question\": {\"type\": \"text\"},\n",
    "                    \"course\": {\"type\": \"keyword\"} \n",
    "                }\n",
    "            }\n",
    "        }\n",
    "        \n",
    "        es_client.indices.create(index=index_name, body=index_settings)\n",
    "    \n",
    "        for doc in tqdm(documents):\n",
    "            es_client.index(index=index_name, document=doc)\n",
    "\n",
    "    search_query = {\n",
    "        \"size\": 10,\n",
    "        \"query\": {\n",
    "            \"bool\": {\n",
    "                \"must\": {\n",
    "                    \"multi_match\": {\n",
    "                        \"query\": query,\n",
    "                        \"fields\": [\"question^3\", \"text\", \"section\"],\n",
    "                        \"type\": \"best_fields\"\n",
    "                    }\n",
    "                },\n",
    "                \"filter\": {\n",
    "                    \"term\": {\n",
    "                        \"course\": \"data-engineering-zoomcamp\"\n",
    "                    }\n",
    "                }\n",
    "            }\n",
    "        }\n",
    "    }\n",
    "\n",
    "    response = es_client.search(index=index_name, body=search_query)\n",
    "\n",
    "    results = []\n",
    "\n",
    "    for hit in response['hits']['hits']:\n",
    "        results.append(hit['_source'])\n",
    "\n",
    "    return results"
   ]
  },
  {
   "cell_type": "code",
   "execution_count": 4,
   "id": "a8f5ae2e-7922-4905-8bde-6ee7b61ea19c",
   "metadata": {},
   "outputs": [],
   "source": [
    "def build_prompt(query, search_results):\n",
    "    prompt_template = \"\"\"\n",
    "    You're a course teaching assistant. Answer the QUESTION based on the CONTEXT from the FAQ database. \n",
    "    Use only the facts from the CONTEXT when answering the QUESTION.\n",
    "    If the CONTEXT doesn't contain the answer, output NONE.\n",
    "    \n",
    "    QUESTION: {question}\n",
    "    \n",
    "    CONTEXT:\n",
    "    {context}\n",
    "    \"\"\".strip()\n",
    "\n",
    "    context = \"\"\n",
    "\n",
    "    for doc in search_results:\n",
    "        context = context + f\"section: {doc['section']}\\nquestion: {doc['question']}\\nanswer: {doc['text']}\\n\\n\"\n",
    "\n",
    "    prompt = prompt_template.format(question=query, context=context).strip()\n",
    "\n",
    "    return prompt"
   ]
  },
  {
   "cell_type": "code",
   "execution_count": 5,
   "id": "ff4821ea-daf3-48a7-96ac-6cb307eabb98",
   "metadata": {},
   "outputs": [],
   "source": [
    "def llm(prompt):\n",
    "    client = OpenAI()\n",
    "    \n",
    "    response = client.chat.completions.create(\n",
    "        model='gpt-4o',\n",
    "        messages=[{'role': 'user', 'content':prompt}]\n",
    "    )\n",
    "\n",
    "    return response.choices[0].message.content"
   ]
  },
  {
   "cell_type": "code",
   "execution_count": 6,
   "id": "c602aa81-0df5-44e4-88d3-95aa4e0ecf80",
   "metadata": {},
   "outputs": [],
   "source": [
    "def rag(query, doc_path):\n",
    "    documents = read_documents(doc_path)\n",
    "    search_results = search(query, documents)\n",
    "    prompt = build_prompt(query, search_results)\n",
    "    answer = llm(prompt)\n",
    "    return answer"
   ]
  },
  {
   "cell_type": "code",
   "execution_count": 9,
   "id": "abd84e93-41fc-492d-82ed-e22717b2fe61",
   "metadata": {},
   "outputs": [
    {
     "data": {
      "text/plain": [
       "'Yes, you can still enroll in the course even if it has already started. You are eligible to submit the homework despite not registering. Be mindful of the deadlines for the final projects.'"
      ]
     },
     "execution_count": 9,
     "metadata": {},
     "output_type": "execute_result"
    }
   ],
   "source": [
    "doc_path = 'RetrievalAndSearch/documents.json'\n",
    "query = \"Can I still enroll the course?\"\n",
    "rag(query, doc_path)"
   ]
  },
  {
   "cell_type": "code",
   "execution_count": null,
   "id": "aedb1691-7b1c-4507-bdd2-e7ce03ccb9d3",
   "metadata": {},
   "outputs": [],
   "source": []
  },
  {
   "cell_type": "code",
   "execution_count": null,
   "id": "6e73771b-f39d-4bfc-b51d-797b8cabbeed",
   "metadata": {},
   "outputs": [],
   "source": [
    "# RUNNING ELASTICSEARCH IN DOCKER\n",
    "\n",
    "#docker run -it \\\n",
    "#    --rm \\\n",
    "#    --name elasticsearch \\\n",
    "#    -p 9200:9200 \\\n",
    "#    -p 9300:9300 \\\n",
    "#    -e \"discovery.type=single-node\" \\\n",
    "#    -e \"xpack.security.enabled=false\" \\\n",
    "#    docker.elastic.co/elasticsearch/elasticsearch:8.4.3"
   ]
  }
 ],
 "metadata": {
  "kernelspec": {
   "display_name": "Python 3 (ipykernel)",
   "language": "python",
   "name": "python3"
  },
  "language_info": {
   "codemirror_mode": {
    "name": "ipython",
    "version": 3
   },
   "file_extension": ".py",
   "mimetype": "text/x-python",
   "name": "python",
   "nbconvert_exporter": "python",
   "pygments_lexer": "ipython3",
   "version": "3.10.13"
  }
 },
 "nbformat": 4,
 "nbformat_minor": 5
}
